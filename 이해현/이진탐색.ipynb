{
  "nbformat": 4,
  "nbformat_minor": 0,
  "metadata": {
    "colab": {
      "provenance": [],
      "collapsed_sections": []
    },
    "kernelspec": {
      "name": "python3",
      "display_name": "Python 3"
    },
    "language_info": {
      "name": "python"
    }
  },
  "cells": [
    {
      "cell_type": "markdown",
      "source": [
        "## 27번. 정렬된 배열에서 특정 수의 개수 구하기\n",
        "\n",
        "문제\n",
        ": N개의 원소를 포함하고 있는 수열이 오름차순으로 정렬되어있습니다.<br>\n",
        "이때 이 수열에서 x가 등장하는 횟수를 구하시오. "
      ],
      "metadata": {
        "id": "ptARbydcYQrS"
      }
    },
    {
      "cell_type": "markdown",
      "source": [
        "* bisect_left(literable, value) : 왼쪽 인덱스를 구하기\n",
        "* bisect_right(literable, value) : 오른쪽 인덱스를 구하기\n",
        "\n",
        "```\n",
        "from bisect import bisect_left, bisect_right\n",
        "\n",
        "nums = [0,1,2,3,4,5,6,7,8,9]\n",
        "n = 5\n",
        "\n",
        "print(bisect_left(nums, n))\n",
        "print(bisect_right(nums, n))\n",
        "\n",
        "'''\n",
        "결과값\n",
        "5\n",
        "6\n",
        "'''\n",
        "\n",
        "```"
      ],
      "metadata": {
        "id": "1QIUVYKudwLo"
      }
    },
    {
      "cell_type": "code",
      "source": [
        "from bisect import bisect_left, bisect_right\n",
        "\n",
        "# 원소 개수 n, x\n",
        "n,x = map(int, input().split())\n",
        "\n",
        "# 입력 수열\n",
        "num_list = list(map(int, input().split()))\n",
        "\n",
        "\n",
        "left_index = bisect_left(num_list, x)\n",
        "right_index = bisect_right(num_list, x)\n",
        "\n",
        "if (right_index - left_index) == 0:\n",
        "    print(-1)\n",
        "else:\n",
        "    print(right_index - left_index)"
      ],
      "metadata": {
        "id": "57Q81Qh-YT_T"
      },
      "execution_count": null,
      "outputs": []
    },
    {
      "cell_type": "markdown",
      "source": [
        "## 28. 고정점 찾기\n",
        "\n",
        "고정점이란 수열의 원소 중에서 그 값이 인덱스와 동일한 원소<br>\n",
        "하나의 수열이 N개의 서로다른 원소를 포함하고 있고, 모든 원소가 오름차순으로<br>\n",
        "정렬 되어있을때, 이 수열에서 고정점이 있다면 고정점을 출력하는 프로그램 작성.\n"
      ],
      "metadata": {
        "id": "5rgxrcqAadTW"
      }
    },
    {
      "cell_type": "code",
      "source": [
        "def binary_search(array, start, end):\n",
        "  mid = (start+end)//2\n",
        "  if array[mid] == mid:\n",
        "    return mid\n",
        "  elif array[mid]>mid:\n",
        "    return binary_search(array, start, mid-1)\n",
        "  elif array[mid]<mid:\n",
        "    return binary_search(array, mid+1, end)\n",
        "\n",
        "n = int(input())\n",
        "array = list(map(int, input().split()))\n",
        "\n",
        "point = binary_search(array,0, n-1)\n",
        "if point == None:\n",
        "  print(-1)\n",
        "else:\n",
        "  print(point)"
      ],
      "metadata": {
        "colab": {
          "base_uri": "https://localhost:8080/"
        },
        "id": "yLszZTMcegMd",
        "outputId": "96cdbe0d-9dca-4705-b73f-4b1ddf612a11"
      },
      "execution_count": null,
      "outputs": [
        {
          "output_type": "stream",
          "name": "stdout",
          "text": [
            "5\n",
            "-15 -6 1 3 7\n",
            "3\n"
          ]
        }
      ]
    },
    {
      "cell_type": "markdown",
      "source": [
        "## 29.공유기 설치\n",
        "\n",
        "도현이의 집 N개가 수직선 위에 있습니다.<br>\n",
        "각각의 집의 좌표는 x1~xn 이고, 집 여러개가 같은 좌표를 가지는 일은 없습니다.<br>\n",
        "도현이는 언제 어디서나 와이파이를 즐기기위해서 집에 공유기 C개를 설치하려고 합니다.<br>\n",
        "최대한 많은 곳에서 와이파이를 사용하려고 하기 때문에 한집에는 공유기를 한개만<br>설치할 수 있고, 가장 인접한 두 공유기 사이의 거리를 가능한 크게하여 설치하려고 합니다.<br>\n",
        "C개의 공유기를 N개의 집에 적당히 설치해서 가장 인접한 두 공유기 사이의 거리를 최대로 하는 프로그램을 작성하시오."
      ],
      "metadata": {
        "id": "lMFzXdC6gYQG"
      }
    },
    {
      "cell_type": "markdown",
      "source": [
        "\n",
        "#### 문제 풀이\n",
        "\n",
        "* 집을 정렬해서 가장 멀리있는 두 집 사이의 거리의 중간값 계산 (최단거리:1, 최장거리: 배열끝원소 - 배열첫원소)\n",
        "* 중간값을 기준으로 집의 개수를 세고, c보다 크면 최소값을 중간값+1로 갱신\n",
        "* 중간값을 기준으로 집의 개수를 셌을때 c보다 작으면 중간값-1로 갱신\n",
        "* 최솟값과 최댓값이 같아 질때 까지 반복 "
      ],
      "metadata": {
        "id": "rZESiLBJ-54C"
      }
    },
    {
      "cell_type": "code",
      "source": [
        "\n",
        "n ,c = list(map(int, input().split()))  #집 개수 N, 공유기 C개\n",
        "\n",
        "house = [int(input().rstrip()) for _ in range(n)]  # 공유기 거리\n",
        "house.sort()  # 이분탐색을 위한 정렬\n",
        "# [1, 2, 4, 8, 9]\n",
        "# 두 공유기 사이의 최대 거리를 이분탐색으로\n",
        "start = 1  # 최소 거리\n",
        "end = house[-1] - house[0]  # 가장 큰 값 - 가장 작은 값 차이; 최대 거리\n",
        "result = 0\n",
        "\n",
        "while(start <= end):\n",
        "    mid = (start + end) // 2  # 가장 클수 있는 거리의 중간값 \n",
        "    cur = house[0] # 첫번째 값부터 시작\n",
        "    cnt = 1\n",
        "    for i in range(1,len(house)): # 두번째 공유기부터 마지막까지\n",
        "        if house[i] >= cur + mid:  # 두번째 값이 시작값+거리 보다 크면\n",
        "            cur = house[i]  # 공유기를 설치\n",
        "            cnt += 1\n",
        "    if cnt >= c:  # 갯수가 공유기 개수보다 많으면\n",
        "        start = mid + 1 #차이를 키워주기\n",
        "        result = mid\n",
        "    else:  # 더 적게 설치되면\n",
        "        end = mid - 1  # 차이를 줄여주기\n",
        "        \n",
        "print(result)\n",
        "\n"
      ],
      "metadata": {
        "colab": {
          "base_uri": "https://localhost:8080/"
        },
        "id": "UyCidBj26hJJ",
        "outputId": "f4c171e9-f7c0-4a2c-ae0e-51a024c8e4c6"
      },
      "execution_count": null,
      "outputs": [
        {
          "output_type": "stream",
          "name": "stdout",
          "text": [
            "5 3\n",
            "1 \n",
            "2\n",
            "8\n",
            "4\n",
            "9\n",
            "3\n"
          ]
        }
      ]
    }
  ]
}
