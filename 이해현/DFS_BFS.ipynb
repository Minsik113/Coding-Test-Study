{
  "nbformat": 4,
  "nbformat_minor": 0,
  "metadata": {
    "colab": {
      "provenance": [],
      "collapsed_sections": [],
      "toc_visible": true
    },
    "kernelspec": {
      "name": "python3",
      "display_name": "Python 3"
    },
    "language_info": {
      "name": "python"
    }
  },
  "cells": [
    {
      "cell_type": "markdown",
      "source": [
        "### DFS(깊이우선탐색, 스택)\n",
        "  1. 탐색 시작노드를 스택에 삽입하고 방문처리 \n",
        "  2. 스택의 최상단 노드에 방문하지 않은 인접노드가 있으면 인접노드를 스택에 넣고\n",
        "  방문 처리, 인접 노드가 없으면 최상단 노드 꺼내기\n",
        "  3. 1,2번 과정 반복\n"
      ],
      "metadata": {
        "id": "pgW-VzJBjsPg"
      }
    },
    {
      "cell_type": "code",
      "source": [
        "# dfs 구현\n",
        "def dfs(graph, v, visited):\n",
        "  #현재 노드를 방문처리\n",
        "  visitied[v] = True\n",
        "  print(v, end=' ')\n",
        " #현재 노드와 연결된 다른 노드를 재귀적으로 방문\n",
        "  for i in graph[v]:\n",
        "    if not visited[i]:\n",
        "     dfs(graph, i, visited)\n"
      ],
      "metadata": {
        "id": "127lOsRwlSyo"
      },
      "execution_count": null,
      "outputs": []
    },
    {
      "cell_type": "markdown",
      "source": [
        "### BFS(너비우선탐색, 큐)\n",
        "  1. 탐색 시작 노드를 큐에 삽입하고 방문처리\n",
        "  2. 큐에서 노드를 꺼내 해당 노드의 인접노드 중에서 방문하지 않은 노드를 모두 큐에 삽입하고 방문처리\n",
        "  3. 1,2번 반복"
      ],
      "metadata": {
        "id": "SL9VoTd-l1ax"
      }
    },
    {
      "cell_type": "code",
      "source": [
        "# bfs 구현\n",
        "from collections import deque\n",
        "\n",
        "def bfs(graph, start, visited):\n",
        "  queue = deque([start])\n",
        "  visitied[start]=True\n",
        "  while queue:\n",
        "    v = queue.popleft()\n",
        "    print(v, end=' ')\n",
        "    for i in graph[v]:\n",
        "      if not visited[i]:\n",
        "        queue.append(i)\n",
        "        visited[i]=True"
      ],
      "metadata": {
        "id": "9Z_WaU54mSL7"
      },
      "execution_count": null,
      "outputs": []
    },
    {
      "cell_type": "markdown",
      "source": [
        "### 15. 특정 거리의 도시 찾기\n",
        "\n",
        "특정한 도시 X를 시작점으로 BFS를 수행하고<br> \n",
        "모든 도시까지의 최단거리를 계산한 뒤에,<br> \n",
        "각 최단거리를 하나씩 확인해 그 값이 K인 경우<br>\n",
        "도시의 번호 출력"
      ],
      "metadata": {
        "id": "sG_M8dwNm7rI"
      }
    },
    {
      "cell_type": "code",
      "source": [
        "import sys\n",
        "from collections import deque\n",
        "input = sys.stdin.readline\n",
        "\n",
        "n, m, k, x = map(int, input().split())\n",
        "graph = [[] for _ in range(n+1)]\n",
        "\n",
        "# 도로 정보 입력받기\n",
        "for _ in range(m):\n",
        "  a, b = map(int, input().split())\n",
        "  graph[a].append(b) \n",
        "\n",
        "# 최단거리 초기화(None)\n",
        "distance = [None]*(n+1)\n",
        "distance[x]=0 #출발 도시(X)는 0으로 설정 \n",
        "\n",
        "#BFS를 위한 deque\n",
        "q = deque()\n",
        "q.append(x\n",
        "             )\n",
        "while q:\n",
        "  now = q.popleft() #now에는 1이 담기고 q는 비게 됨 \n",
        "  #현재도시에서 이동할 수 있는 모든 도시 확인\n",
        "  for next in graph[now]:\n",
        "    #아직 방문하지 않은 도시\n",
        "    if distance[next]== None:\n",
        "      #최단거리 갱신, 현재 도시와 출발 도시 사이의 거리  1 증가\n",
        "      distance[next]= distance[now]+1\n",
        "      q.append(next)\n",
        "\n",
        "# 최단거리가 k인 노드만 표시\n",
        "check = False\n",
        "for i in range(1,n+1):\n",
        "  if distance[i]==k:\n",
        "    print(i)\n",
        "    check=True\n",
        "\n",
        "if check == False:\n",
        "  print(-1)"
      ],
      "metadata": {
        "colab": {
          "base_uri": "https://localhost:8080/"
        },
        "id": "T1kk-Lf8nAOn",
        "outputId": "56767036-5a3f-4a32-f2fa-a0cab74dbdf4"
      },
      "execution_count": null,
      "outputs": [
        {
          "output_type": "stream",
          "name": "stdout",
          "text": [
            "4 4 1 1 \n",
            "1 2\n",
            "1 3\n",
            "2 3 \n",
            "2 4\n",
            "2\n",
            "3\n"
          ]
        }
      ]
    },
    {
      "cell_type": "markdown",
      "source": [
        "### 16. 연구소\n",
        "\n",
        "* 문제 푸는 과정\n",
        "\n",
        "1)  벽 세우기<br>\n",
        "2)  바이러스 -> 상하좌우의 인접한 빈칸으로 이동 -> BFS 사용<br>\n",
        "  2-1)  바이러스 위치를 queue에 넣고 while q 로 바이러스 퍼트리기<br>\n",
        "  2-2)  바이러스를 퍼트린후 빈칸개수 체크(0), 최대값 구하기<br>\n",
        "3)  최대값 출력<br>"
      ],
      "metadata": {
        "id": "USbF5d3ZwvCC"
      }
    },
    {
      "cell_type": "markdown",
      "source": [
        "#### 벽만들기 : wall\n",
        "\n",
        "0을 만날때 마다 지도의 값을 1로 변경해 wall함수 재귀호출,<br>count 1증가 시키기<br>\n",
        "밖으로 나왔을때 다시 0으로 만들어주기\n",
        "count가 3개이면 bfs 호출"
      ],
      "metadata": {
        "id": "OoyGBhW2MX02"
      }
    },
    {
      "cell_type": "code",
      "source": [
        "import sys\n",
        "import copy\n",
        "from collections import deque\n",
        "\n",
        "input = sys.stdin.readline\n",
        "\n",
        "dx = [0,0,-1,1]\n",
        "dy = [1,-1,0,0]\n",
        "\n",
        "N, M = map(int, input().split())\n",
        "arr = [list(map(int, input().split())) for _ in range(N)] # 빈 맵 생성 \n",
        "result = 0\n",
        "q = deque()\n",
        "\n",
        "def bfs():\n",
        "    global ans\n",
        "    test_map = copy.deepcopy(arr)\n",
        "    for i in range(N):\n",
        "        for j in range(M):\n",
        "            if test_map[i][j]==2: #바이러스인 경우 세기 (queue)\n",
        "                q.append([i,j])\n",
        "\n",
        "    while q:\n",
        "        x, y = q.popleft()\n",
        "        for i in range(4):\n",
        "            nx = x + dx[i]\n",
        "            ny = y + dy[i]\n",
        "            if 0 <= nx < N and 0 <= ny < M:\n",
        "                if test_map[nx][ny]==0: #바이러스 전파 \n",
        "                    test_map[nx][ny] = 2\n",
        "                    q.append([nx,ny])\n",
        "    cnt = 0\n",
        "    for i in test_map:#전파되지 않은 곳 세기 \n",
        "        cnt+=i.count(0)\n",
        "    result= max(result,cnt)\n",
        "\n",
        "def wall(count): #벽세우기 \n",
        "    if count==3:\n",
        "        bfs()\n",
        "        return\n",
        "    for i in range(N):\n",
        "        for j in range(M):\n",
        "            if arr[i][j]==0: #맵이 0이면 \n",
        "                arr[i][j]=1 #벽세우기\n",
        "                wall(count+1)  #벽 만들기 함수 재귀호출\n",
        "                arr[i][j]=0 # 밖으로 나왔을때 다시 빈칸 만들기 \n",
        "\n",
        "wall(0)\n",
        "print(result)\n",
        "\n",
        "\n"
      ],
      "metadata": {
        "id": "_DWciWfRwzX2"
      },
      "execution_count": null,
      "outputs": []
    },
    {
      "cell_type": "markdown",
      "source": [
        "### 17. 경쟁적 전염"
      ],
      "metadata": {
        "id": "A_OQsfWdP8pT"
      }
    },
    {
      "cell_type": "markdown",
      "source": [
        "1. 시간(time)가 목표한 시간(s)에 도달하면 while문을 멈춘다.\n",
        "2. 큐에서 원소를 꺼낸후 네 방향중 바이러스가 이동 가능한위치로 바이러스를 확산시킨다.\n",
        "3. 바이러스를 확산시킨후 1초지난시간을 반영(s+1)하여 (바이러스의 번호,시간,위치)를 큐에 삽입한다.\n",
        "4.위 2~3번과정을 1번을 만족하거나 큐가 빌때까지 반복한다."
      ],
      "metadata": {
        "id": "1Zc0_oEZEJp8"
      }
    },
    {
      "cell_type": "code",
      "source": [
        "import sys \n",
        "from collections import deque\n",
        "\n",
        "input = sys.stdin.readline\n",
        "\n",
        "#첫째 줄은 시험관 정보 n, 바이러스 개수 K\n",
        "n, k = map(int, input().split())\n",
        "\n",
        "#그래프 정보, 그리기\n",
        "graph = []\n",
        "for _ in range(n):\n",
        "    graph.append(list(map(int, input().split())))\n",
        "# s, x, y, 정보 \n",
        "s, x, y = map(int, input().split())\n",
        "\n",
        "q = deque()\n",
        "for i in range(n):\n",
        "    for j in range(n):\n",
        "        if graph[i][j] != 0: #큐의 바이러스 정보, 시간정보 저장\n",
        "            q.append((graph[i][j], i, j, 0))\n",
        "\n",
        "#번호 낮은 바이러스 부터 퍼짐\n",
        "q.sort()\n",
        "\n",
        "dx = [-1, 1, 0, 0]\n",
        "dy = [0, 0, -1, 1]\n",
        "\n",
        "while q:\n",
        "    virus, a, b, time = queue.popleft()\n",
        "    if time == s:\n",
        "        break\n",
        "    for i in range(4):\n",
        "        nx = a + dx[i]\n",
        "        ny = b + dy[i]\n",
        "        if 0 <= nx < n and 0 <= ny < n and graph[nx][ny] == 0:\n",
        "          #바이러스가 일\n",
        "            graph[nx][ny] = virus\n",
        "            queue.append((virus, nx, ny, time + 1))\n",
        "\n",
        "print(graph[x - 1][y - 1])"
      ],
      "metadata": {
        "id": "sVbRmrt562Sv"
      },
      "execution_count": null,
      "outputs": []
    },
    {
      "cell_type": "markdown",
      "source": [
        "#### 18. 괄호변환\n",
        "\n",
        "* 균형잡힌 괄호 문자열 테스트\n",
        "  -> count변수로 (,) 개수를 세서 count값이 0이면 균형잡힌 괄호 문자열"
      ],
      "metadata": {
        "id": "VO_EZBJkpHD7"
      }
    },
    {
      "cell_type": "code",
      "source": [
        "def solution(p):\n",
        "    if p == '' : return p\t\t# 빈 문자열이면 그대로 return\n",
        "    \n",
        "    u = ''\t# u\n",
        "    cnt = 0\n",
        "    for i in p:\t\t\t\t# 맨 앞에 있는 균형잡힌 문자열 찾기\n",
        "        if i=='(' : cnt +=1\t\t# '('와 ')'의 개수가 같으면 균형잡힌 문자열\n",
        "        else : cnt -= 1\n",
        "        u += i\n",
        "        if cnt == 0: break\t\t\n",
        "            \n",
        "    v = p[len(u):]\t# v\n",
        "    if u[0] == '(' : return u + solution(v)\t\t# '('가 첫문자인 경우 - 문자열 v에 대해 재귀적으로 수행한 결과 문자열 붙이기\n",
        "    else:\n",
        "        temp = '(' + solution(v) + ')' \t\t\t# '('가 첫문자가 아닌경우\n",
        "        if len(u) > 2: #u의 첫번째와 마지막 문자를 제거하고, 나머지 문자열의 괄호 방향을 뒤집어 뒤에 붙이기\n",
        "            temp += ''.join(['(' if x==')' else ')' for x in u[1:len(u)-1]])\n",
        "        return temp\n"
      ],
      "metadata": {
        "id": "69gGkQjOrYnO"
      },
      "execution_count": null,
      "outputs": []
    }
  ]
}