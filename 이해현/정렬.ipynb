{
  "nbformat": 4,
  "nbformat_minor": 0,
  "metadata": {
    "colab": {
      "provenance": [],
      "collapsed_sections": []
    },
    "kernelspec": {
      "name": "python3",
      "display_name": "Python 3"
    },
    "language_info": {
      "name": "python"
    }
  },
  "cells": [
    {
      "cell_type": "markdown",
      "source": [
        "### 23. 국영수"
      ],
      "metadata": {
        "id": "DcBDO270dGVq"
      }
    },
    {
      "cell_type": "code",
      "execution_count": null,
      "metadata": {
        "id": "RqwlEEYPydt9"
      },
      "outputs": [],
      "source": [
        "scores=[]\n",
        "n= int(input())\n",
        "for i in range(n):\n",
        "  scores.append(input().split())\n",
        "\n",
        "scores.sort(key = lambda x :( -int(x[1]), int(x[2]), -int(x[3]), x[0]))\n",
        "\n",
        "for name in scores:\n",
        "  print(name[0])"
      ]
    },
    {
      "cell_type": "markdown",
      "source": [
        "### 24. 안테나"
      ],
      "metadata": {
        "id": "cNVttOxNdMwq"
      }
    },
    {
      "cell_type": "code",
      "source": [
        "n = int(input())\n",
        "antenna = map(int, input().split())\n",
        "antenna.sort()\n",
        "result=0\n",
        "if n % 2 ==0:\n",
        "  result = antenna[n/2]\n",
        "else:\n",
        "  result = antenna[n//2 +1]\n",
        "\n",
        "print(result)"
      ],
      "metadata": {
        "id": "RCNcU9RVdZ_S"
      },
      "execution_count": null,
      "outputs": []
    },
    {
      "cell_type": "markdown",
      "source": [
        "### 25. 실패율"
      ],
      "metadata": {
        "id": "7Og936lbhtuP"
      }
    },
    {
      "cell_type": "code",
      "source": [
        "def solution (n, stages):\n",
        "  num = len(stages)\n",
        "  result = []\n",
        "  for i in (1, n+1):\n",
        "    count = stages.count(i)\n",
        "\n",
        "    if num == 0:\n",
        "      fail = 0\n",
        "    else:\n",
        "      fail = count/ num\n",
        "    \n",
        "    result.append((i, fail))\n",
        "    length -= count \n",
        "\n",
        "  result = sorted(result, key= lambda x :x[1], reverse=True)\n",
        "\n",
        "  result = [ i[0] for i in result]\n",
        "  return result"
      ],
      "metadata": {
        "id": "r9mgov60h_lS"
      },
      "execution_count": null,
      "outputs": []
    },
    {
      "cell_type": "markdown",
      "source": [
        "### 26. 카드 정렬하기 "
      ],
      "metadata": {
        "id": "YBLMbAhPkiHH"
      }
    },
    {
      "cell_type": "code",
      "source": [
        "import heapq\n",
        "from sys import stdin\n",
        "\n",
        "cards = []\n",
        "result = 0\n",
        "\n",
        "for i in range(int(stdin.readline())):\n",
        "    heapq.heappush(cards, int(stdin.readline()))\n",
        "\n",
        "if len(cards) == 1:\n",
        "    print(0)\n",
        "else:\n",
        "    while len(cards) > 1:\n",
        "        plus = heapq.heappop(cards) + heapq.heappop(cards)\n",
        "        result += plus\n",
        "        heapq.heappush(cards, plus)\n",
        "\n",
        "    print(result)"
      ],
      "metadata": {
        "id": "qlpjhiPTkni4"
      },
      "execution_count": null,
      "outputs": []
    }
  ]
}