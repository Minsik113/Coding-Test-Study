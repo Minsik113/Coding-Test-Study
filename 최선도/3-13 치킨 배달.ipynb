{
 "cells": [
  {
   "cell_type": "code",
   "execution_count": 1,
   "metadata": {},
   "outputs": [],
   "source": [
    "from itertools import combinations"
   ]
  },
  {
   "cell_type": "code",
   "execution_count": 2,
   "metadata": {},
   "outputs": [],
   "source": [
    "n, m = map(int, input().split()) \n",
    "city = list(list(map(int, input().split())) for _ in range(n)) # 도시의 2차원 배열\n",
    "result = 999999\n",
    "house = []      # 집의 좌표\n",
    "bbq = []      # 치킨집의 좌표"
   ]
  },
  {
   "cell_type": "code",
   "execution_count": 3,
   "metadata": {},
   "outputs": [],
   "source": [
    "for x in range(n):\n",
    "    for y in range(n):\n",
    "        if city[x][y] == 1:\n",
    "            house.append([x, y]) # 튜플은 변경이 안됨\n",
    "        elif city[x][y] == 2:\n",
    "            bbq.append([x, y])"
   ]
  },
  {
   "cell_type": "code",
   "execution_count": 4,
   "metadata": {},
   "outputs": [
    {
     "name": "stdout",
     "output_type": "stream",
     "text": [
      "([0, 1], [3, 0])\n",
      "([0, 1], [4, 0])\n",
      "([0, 1], [4, 1])\n",
      "([0, 1], [4, 4])\n",
      "([3, 0], [4, 0])\n",
      "([3, 0], [4, 1])\n",
      "([3, 0], [4, 4])\n",
      "([4, 0], [4, 1])\n",
      "([4, 0], [4, 4])\n",
      "([4, 1], [4, 4])\n"
     ]
    }
   ],
   "source": [
    "for x in combinations(bbq, m):\n",
    "    print(x)"
   ]
  },
  {
   "cell_type": "code",
   "execution_count": 17,
   "metadata": {},
   "outputs": [
    {
     "name": "stdout",
     "output_type": "stream",
     "text": [
      "5\n"
     ]
    }
   ],
   "source": [
    "for chicken in combinations(bbq, m):  # m의 치킨집으로 할 수 있는 모든 조합을 생성\n",
    "    temp = 0            # 도시의 치킨 거리\n",
    "    for h in house: \n",
    "        chicken_distance = 999   # 각 집마다 치킨 거리의 min을 비교하기 위해 상대적으로 큰 값을 부여\n",
    "        for j in range(m): # 조합별 거리 확인 \n",
    "            chicken_distance = min(chicken_distance, abs(h[0] - chicken[j][0]) + abs(h[1] - chicken[j][1]))\n",
    "        temp += chicken_distance\n",
    "    result = min(result, temp)\n",
    "\n",
    "print(result)"
   ]
  },
  {
   "cell_type": "code",
   "execution_count": null,
   "metadata": {},
   "outputs": [],
   "source": []
  }
 ],
 "metadata": {
  "kernelspec": {
   "display_name": "Python 3.7.13 ('sesac')",
   "language": "python",
   "name": "python3"
  },
  "language_info": {
   "codemirror_mode": {
    "name": "ipython",
    "version": 3
   },
   "file_extension": ".py",
   "mimetype": "text/x-python",
   "name": "python",
   "nbconvert_exporter": "python",
   "pygments_lexer": "ipython3",
   "version": "3.7.13"
  },
  "orig_nbformat": 4,
  "vscode": {
   "interpreter": {
    "hash": "13a66a2c12579d8998cdbdfee62f553f66d615713b69e4735acef1350186d7b7"
   }
  }
 },
 "nbformat": 4,
 "nbformat_minor": 2
}
