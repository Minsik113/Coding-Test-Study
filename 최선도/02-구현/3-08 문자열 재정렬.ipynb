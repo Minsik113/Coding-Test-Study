{
 "cells": [
  {
   "cell_type": "code",
   "execution_count": 23,
   "metadata": {},
   "outputs": [],
   "source": [
    "import time\n",
    "# K1KA5CB7, AJKDLSI412K4JSJ9D\n",
    "\n",
    "S = input()\n",
    "alphabet_list = []\n",
    "int_list = []"
   ]
  },
  {
   "cell_type": "code",
   "execution_count": 24,
   "metadata": {},
   "outputs": [],
   "source": [
    "start = time.time()\n",
    "for x in S:\n",
    "    if 65 <= ord(x) <= 90: # 대문자 알파벳의 ASCII 코드 범위로 문자와 숫자 구분\n",
    "        alphabet_list.append(x)\n",
    "    else:\n",
    "        int_list.append(int(x))"
   ]
  },
  {
   "cell_type": "code",
   "execution_count": 25,
   "metadata": {},
   "outputs": [
    {
     "name": "stdout",
     "output_type": "stream",
     "text": [
      "ADDIJJJKKLSS20\n",
      "1.270153522491455\n"
     ]
    }
   ],
   "source": [
    "alphabet_list.sort()\n",
    "alphabet = ''.join(alphabet_list)\n",
    "print(alphabet + str(sum(int_list)))\n",
    "end = time.time()\n",
    "print(end-start)"
   ]
  }
 ],
 "metadata": {
  "kernelspec": {
   "display_name": "Python 3.7.13 ('sesac')",
   "language": "python",
   "name": "python3"
  },
  "language_info": {
   "codemirror_mode": {
    "name": "ipython",
    "version": 3
   },
   "file_extension": ".py",
   "mimetype": "text/x-python",
   "name": "python",
   "nbconvert_exporter": "python",
   "pygments_lexer": "ipython3",
   "version": "3.7.13"
  },
  "orig_nbformat": 4,
  "vscode": {
   "interpreter": {
    "hash": "13a66a2c12579d8998cdbdfee62f553f66d615713b69e4735acef1350186d7b7"
   }
  }
 },
 "nbformat": 4,
 "nbformat_minor": 2
}
