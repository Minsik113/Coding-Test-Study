{
 "cells": [
  {
   "cell_type": "code",
   "execution_count": 6,
   "metadata": {},
   "outputs": [],
   "source": [
    "import time\n",
    "# K1KA5CB7, AJKDLSI412K4JSJ9D\n",
    "\n",
    "S = input()\n",
    "alphabet_list = []\n",
    "int_list = []"
   ]
  },
  {
   "cell_type": "code",
   "execution_count": 7,
   "metadata": {},
   "outputs": [
    {
     "data": {
      "text/plain": [
       "['A', 'J', 'K', 'D', 'L', 'S', 'I', 'K', 'J', 'S', 'J', 'D']"
      ]
     },
     "execution_count": 7,
     "metadata": {},
     "output_type": "execute_result"
    }
   ],
   "source": [
    "start = time.time()\n",
    "# for x in S:\n",
    "#     if 65 <= ord(x) <= 90: # 대문자 알파벳의 ASCII 코드 범위로 문자와 숫자 구분\n",
    "#         alphabet_list.append(x)\n",
    "#     else:\n",
    "#         int_list.append(int(x))\n",
    "[alphabet_list.append(x) if 65 <= ord(x) <= 90 else int_list.append(int(x)) for x in S]"
   ]
  },
  {
   "cell_type": "code",
   "execution_count": 8,
   "metadata": {},
   "outputs": [
    {
     "name": "stdout",
     "output_type": "stream",
     "text": [
      "ADDIJJJKKLSS20\n",
      "16.18218231201172\n"
     ]
    }
   ],
   "source": [
    "alphabet_list.sort()\n",
    "alphabet = ''.join(alphabet_list)\n",
    "print(alphabet + str(sum(int_list)))\n",
    "end = time.time()\n",
    "print(end-start)"
   ]
  },
  {
   "cell_type": "code",
   "execution_count": null,
   "metadata": {},
   "outputs": [],
   "source": []
  }
 ],
 "metadata": {
  "kernelspec": {
   "display_name": "Python 3.9.12 ('base')",
   "language": "python",
   "name": "python3"
  },
  "language_info": {
   "codemirror_mode": {
    "name": "ipython",
    "version": 3
   },
   "file_extension": ".py",
   "mimetype": "text/x-python",
   "name": "python",
   "nbconvert_exporter": "python",
   "pygments_lexer": "ipython3",
   "version": "3.9.12"
  },
  "orig_nbformat": 4,
  "vscode": {
   "interpreter": {
    "hash": "ad2bdc8ecc057115af97d19610ffacc2b4e99fae6737bb82f5d7fb13d2f2c186"
   }
  }
 },
 "nbformat": 4,
 "nbformat_minor": 2
}
